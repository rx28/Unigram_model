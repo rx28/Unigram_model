{
  "nbformat": 4,
  "nbformat_minor": 0,
  "metadata": {
    "colab": {
      "provenance": [],
      "collapsed_sections": []
    },
    "kernelspec": {
      "name": "python3",
      "display_name": "Python 3"
    },
    "language_info": {
      "name": "python"
    },
    "gpuClass": "standard"
  },
  "cells": [
    {
      "cell_type": "code",
      "source": [
        "import math\n",
        "import copy\n",
        "import matplotlib.pyplot as plt\n",
        "import numpy as np\n"
      ],
      "metadata": {
        "id": "2wm0TOCRiuA1"
      },
      "execution_count": 1,
      "outputs": []
    },
    {
      "cell_type": "code",
      "execution_count": 2,
      "metadata": {
        "id": "IiaF6CN-GhdI"
      },
      "outputs": [],
      "source": [
        "txt_file = open(\"training_data.txt\", \"r\")\n",
        "file_content = txt_file.read()\n",
        "training_data = file_content.split(\" \")\n",
        "txt_file.close()\n",
        "training_data=training_data[0:640000]\n",
        "\n",
        "txt_file = open(\"test_data.txt\", \"r\")\n",
        "file_content = txt_file.read()\n",
        "test_data = file_content.split(\" \")\n",
        "txt_file.close()\n",
        "test_data=test_data[0:640000]\n"
      ]
    },
    {
      "cell_type": "code",
      "source": [
        "def bag(my_list,freq):\n",
        "   \n",
        "   \n",
        "    for item in my_list:\n",
        "            freq[item] = 0\n",
        "           \n",
        "    \n",
        "vocab_dict={}\n",
        "bag(training_data+test_data,vocab_dict)\n",
        "\n"
      ],
      "metadata": {
        "id": "PjqDL3dGGrPD"
      },
      "execution_count": 3,
      "outputs": []
    },
    {
      "cell_type": "code",
      "source": [
        "\n",
        "def CountFrequency(my_list):\n",
        "    freq=copy.copy(vocab_dict)  \n",
        "    for item in my_list:\n",
        "        if (item in freq):\n",
        "            freq[item] +=1\n",
        "\n",
        "\n",
        "    return freq        \n",
        "\n",
        "def perplexity_mle(n,freq,data):\n",
        "     sum=0\n",
        "     for i in range(len(data)):\n",
        "         p=freq[data[i]]/len(data)\n",
        "         if(p==0):\n",
        "            sum=sum-float('inf')\n",
        "         else:\n",
        "            sum=sum+math.log(p)\n",
        "     sum=sum/(-n)\n",
        "     return math.exp(sum)    \n",
        "\n",
        "def perplexity_map(n,freq,data,alpha0,alphak,k,l):\n",
        "     sum=0\n",
        "     for i in range(len(data)):\n",
        "         p=(freq[data[i]]+alphak-1)/(l+alpha0-k)\n",
        "         if(p==0):\n",
        "              return \"a\"\n",
        "         sum=sum+math.log(p)\n",
        "     sum=sum/(-n)\n",
        "     return math.exp(sum) \n",
        "\n",
        "\n",
        "def perplexity_pred_dist(n,freq,data,alpha0,alphak,l):\n",
        "     sum=0\n",
        "     for i in range(len(data)):\n",
        "         p=(freq[data[i]]+alphak)/(l+alpha0)\n",
        "         sum=sum+math.log(p)\n",
        "     sum=sum/(-n)\n",
        "     return math.exp(sum) \n",
        "\n"
      ],
      "metadata": {
        "id": "Q4vXNa9aNtia"
      },
      "execution_count": 4,
      "outputs": []
    },
    {
      "cell_type": "code",
      "source": [
        "training_data1=training_data[0:5000] #n/128=5000\n",
        "training_data2=training_data[0:10000] #n/64=10000\n",
        "training_data3=training_data[0:40000] #n/16=40000\n",
        "training_data4=training_data[0:160000] #n/4=160000\n",
        "training_data5=training_data #n=640000\n",
        "\n",
        "\n",
        "#count of words in each training data\n",
        "freq_1=CountFrequency(training_data1) #in training_data1\n",
        "freq_2=CountFrequency(training_data2)#in training_data2\n",
        "freq_3=CountFrequency(training_data3)#in training_data3\n",
        "freq_4=CountFrequency(training_data4)#in training_data4\n",
        "freq_5=CountFrequency(training_data5)#in training_data5\n"
      ],
      "metadata": {
        "id": "VtRD9d0FMW0z"
      },
      "execution_count": 5,
      "outputs": []
    },
    {
      "cell_type": "code",
      "source": [
        "# When training set is of 5000 element\n",
        "#MLE\n",
        "print(\"*MLE*\")\n",
        "perplexity_mle_ans_5k_tr=perplexity_mle(640000,freq_1,training_data)\n",
        "print(\"Perplexity using the maximum likelihood estimate for Train :\",(perplexity_mle_ans_5k_tr))\n",
        "\n",
        "perplexity_mle_ans_5k=perplexity_mle(640000,freq_1,test_data)\n",
        "print(\"Perplexity using the maximum likelihood estimate for Test :\",(perplexity_mle_ans_5k))\n",
        "#MAP\n",
        "print(\"*MAP*\")\n",
        "perplexity_map_ans_5k_tr=perplexity_map(640000,freq_1,training_data,20000,2,10000,5000)\n",
        "print(\"Perplexity using the MAP estimate for Train\",perplexity_map_ans_5k_tr)\n",
        "\n",
        "perplexity_map_ans_5k=perplexity_map(640000,freq_1,test_data,20000,2,10000,5000)\n",
        "print(\"Perplexity using the MAP estimate for Test\",perplexity_map_ans_5k)\n",
        " # **Predective dist**\n",
        "print(\"*Pred dist*\")\n",
        "perplexity_pred_dist_ans_5k_tr=perplexity_pred_dist(640000,freq_1,training_data,20000,2,5000)\n",
        "print(\"Perplexity using the predictive distribution for Train\",perplexity_pred_dist_ans_5k_tr)\n",
        "\n",
        "perplexity_pred_dist_ans_5k=perplexity_pred_dist(640000,freq_1,test_data,20000,2,5000)\n",
        "print(\"Perplexity using the predictive distribution for Test\",perplexity_pred_dist_ans_5k)"
      ],
      "metadata": {
        "colab": {
          "base_uri": "https://localhost:8080/"
        },
        "id": "jQ0pE_Q8N7KF",
        "outputId": "07828177-a865-4326-b9ac-756113c78f35"
      },
      "execution_count": 7,
      "outputs": [
        {
          "output_type": "stream",
          "name": "stdout",
          "text": [
            "*MLE*\n",
            "Perplexity using the maximum likelihood estimate for Train : inf\n",
            "Perplexity using the maximum likelihood estimate for Test : inf\n",
            "*MAP*\n",
            "Perplexity using the MAP estimate for Train 10047.88041220642\n",
            "Perplexity using the MAP estimate for Test 10098.36492411617\n",
            "*Pred dist*\n",
            "Perplexity using the predictive distribution for Train 9782.98313217559\n",
            "Perplexity using the predictive distribution for Test 9814.024919445475\n"
          ]
        }
      ]
    },
    {
      "cell_type": "code",
      "source": [
        "# When training set is of 10000 element\n",
        "#Mle\n",
        "print(\"*MLe*\")\n",
        "perplexity_mle_ans_10k_tr=perplexity_mle(640000,freq_2,training_data)\n",
        "print(\"Perplexity using the maximum likelihood estimate for train :\",(perplexity_mle_ans_10k_tr))\n",
        "\n",
        "\n",
        "perplexity_mle_ans_10k=perplexity_mle(640000,freq_2,test_data)\n",
        "print(\"Perplexity using the maximum likelihood estimate for test :\",(perplexity_mle_ans_10k))\n",
        "#MAP\n",
        "print(\"*MAP\")\n",
        "perplexity_map_ans_10k_tr=perplexity_map(640000,freq_2,training_data,20000,2,10000,10000)\n",
        "print(\"Perplexity using the MAP estimate for train\",perplexity_map_ans_10k_tr)\n",
        "\n",
        "\n",
        "perplexity_map_ans_10k=perplexity_map(640000,freq_2,test_data,20000,2,10000,10000)\n",
        "print(\"Perplexity using the MAP estimate for test\",perplexity_map_ans_10k)\n",
        "#pred dis\n",
        "print(\"*pred dis*\")\n",
        "perplexity_pred_dist_ans_10k_tr=perplexity_pred_dist(640000,freq_2,training_data,20000,2,10000)\n",
        "print(\"Perplexity using the predictive distribution for train\",perplexity_pred_dist_ans_10k_tr)\n",
        "\n",
        "perplexity_pred_dist_ans_10k=perplexity_pred_dist(640000,freq_2,test_data,20000,2,10000)\n",
        "print(\"Perplexity using the predictive distribution for test\",perplexity_pred_dist_ans_10k)"
      ],
      "metadata": {
        "colab": {
          "base_uri": "https://localhost:8080/"
        },
        "id": "4NxpSFavjIou",
        "outputId": "7cf8eaf1-fd03-402a-cec3-baff55c9507f"
      },
      "execution_count": 8,
      "outputs": [
        {
          "output_type": "stream",
          "name": "stdout",
          "text": [
            "*MLe*\n",
            "Perplexity using the maximum likelihood estimate for train : inf\n",
            "Perplexity using the maximum likelihood estimate for test : inf\n",
            "*MAP\n",
            "Perplexity using the MAP estimate for train 9917.43567943996\n",
            "Perplexity using the MAP estimate for test 9992.362371992125\n",
            "*pred dis*\n",
            "Perplexity using the predictive distribution for train 9619.499986112396\n",
            "Perplexity using the predictive distribution for test 9668.062580182157\n"
          ]
        }
      ]
    },
    {
      "cell_type": "code",
      "source": [
        "# When training set is of 40000 element\n",
        "#mle\n",
        "print(\"*MLE*\")\n",
        "perplexity_mle_ans_40k_tr=perplexity_mle(640000,freq_3,training_data)\n",
        "print(\"Perplexity using the maximum likelihood estimate for train:\",(perplexity_mle_ans_40k_tr))\n",
        "\n",
        "\n",
        "perplexity_mle_ans_40k=perplexity_mle(640000,freq_3,test_data)\n",
        "print(\"Perplexity using the maximum likelihood estimate for test:\",(perplexity_mle_ans_40k))\n",
        "#map\n",
        "print(\"*MAP*\")\n",
        "perplexity_map_ans_40k_tr=perplexity_map(640000,freq_3,training_data,20000,2,10000,40000)\n",
        "print(\"Perplexity using the MAP estimate for train\",perplexity_map_ans_40k_tr)\n",
        "\n",
        "\n",
        "perplexity_map_ans_40k=perplexity_map(640000,freq_3,test_data,20000,2,10000,40000)\n",
        "print(\"Perplexity using the MAP estimate for test\",perplexity_map_ans_40k)\n",
        "#pred dis\n",
        "print(\"*Pred Dist*\")\n",
        "perplexity_pred_dist_ans_40k_tr=perplexity_pred_dist(640000,freq_3,training_data,20000,2,40000)\n",
        "print(\"Perplexity using the predictive distribution for train\",perplexity_pred_dist_ans_40k_tr)\n",
        "\n",
        "perplexity_pred_dist_ans_40k=perplexity_pred_dist(640000,freq_3,test_data,20000,2,40000)\n",
        "print(\"Perplexity using the predictive distribution for test\",perplexity_pred_dist_ans_40k)"
      ],
      "metadata": {
        "colab": {
          "base_uri": "https://localhost:8080/"
        },
        "id": "l2yshfUXSmqk",
        "outputId": "6ddcbe43-29b1-4740-e0ca-88d46b2d9dfd"
      },
      "execution_count": 9,
      "outputs": [
        {
          "output_type": "stream",
          "name": "stdout",
          "text": [
            "*MLE*\n",
            "Perplexity using the maximum likelihood estimate for train: inf\n",
            "Perplexity using the maximum likelihood estimate for test: inf\n",
            "*MAP*\n",
            "Perplexity using the MAP estimate for train 9255.182346253425\n",
            "Perplexity using the MAP estimate for test 9380.752312326787\n",
            "*Pred Dist*\n",
            "Perplexity using the predictive distribution for train 9127.235965446844\n",
            "Perplexity using the predictive distribution for test 9224.511912933269\n"
          ]
        }
      ]
    },
    {
      "cell_type": "code",
      "source": [
        "# When training set is of 160000 element\n",
        "#MLE\n",
        "print(\"*MLE*\")\n",
        "perplexity_mle_ans_160k_tr=perplexity_mle(640000,freq_4,training_data)\n",
        "print(\"Perplexity using the maximum likelihood estimate for train :\",perplexity_mle_ans_160k_tr)\n",
        "\n",
        "\n",
        "perplexity_mle_ans_160k=perplexity_mle(640000,freq_4,test_data)\n",
        "print(\"Perplexity using the maximum likelihood estimate for test:\",perplexity_mle_ans_160k)\n",
        "#MAP\n",
        "print(\"*MAP*\")\n",
        "perplexity_map_ans_160k_tr=perplexity_map(640000,freq_4,training_data,20000,2,10000,160000)\n",
        "print(\"Perplexity using the MAP estimate for train\",perplexity_map_ans_160k_tr)\n",
        "\n",
        "\n",
        "perplexity_map_ans_160k=perplexity_map(640000,freq_4,test_data,20000,2,10000,160000)\n",
        "print(\"Perplexity using the MAP estimate for test\",perplexity_map_ans_160k)\n",
        "#pred dis\n",
        "print(\"*Pred Dis*\")\n",
        "perplexity_pred_dist_ans_160k_tr=perplexity_pred_dist(640000,freq_4,training_data,20000,2,160000)\n",
        "print(\"Perplexity using the predictive distribution for train\",perplexity_pred_dist_ans_160k_tr)\n",
        "\n",
        "perplexity_pred_dist_ans_160k=perplexity_pred_dist(640000,freq_4,test_data,20000,2,160000)\n",
        "print(\"Perplexity using the predictive distribution for test\",perplexity_pred_dist_ans_160k)"
      ],
      "metadata": {
        "colab": {
          "base_uri": "https://localhost:8080/"
        },
        "id": "GZoPTqLLjcpd",
        "outputId": "466bf956-0f2a-4dad-ad20-7789bc372c7a"
      },
      "execution_count": 10,
      "outputs": [
        {
          "output_type": "stream",
          "name": "stdout",
          "text": [
            "*MLE*\n",
            "Perplexity using the maximum likelihood estimate for train : inf\n",
            "Perplexity using the maximum likelihood estimate for test: inf\n",
            "*MAP*\n",
            "Perplexity using the MAP estimate for train 8693.509011629605\n",
            "Perplexity using the MAP estimate for test 8839.546029448937\n",
            "*Pred Dis*\n",
            "Perplexity using the predictive distribution for train 8683.653146964924\n",
            "Perplexity using the predictive distribution for test 8817.904839672385\n"
          ]
        }
      ]
    },
    {
      "cell_type": "code",
      "source": [
        "# When training set is of 640000 element\n",
        "#MLE\n",
        "print(\"*MLE*\")\n",
        "perplexity_mle_ans_640k_tr=perplexity_mle(640000,freq_5,training_data)\n",
        "print(\"Perplexity using the maximum likelihood estimate for train:\",perplexity_mle_ans_640k_tr)\n",
        "\n",
        "\n",
        "perplexity_mle_ans_640k=perplexity_mle(640000,freq_5,test_data)\n",
        "print(\"Perplexity using the maximum likelihood estimate for test:\",perplexity_mle_ans_640k)\n",
        "#MAP\n",
        "print(\"*MAP*\")\n",
        "perplexity_map_ans_640k_tr=perplexity_map(640000,freq_5,training_data,20000,2,10000,640000)\n",
        "print(\"Perplexity using the MAP estimate for train\",perplexity_map_ans_640k_tr)\n",
        "\n",
        "\n",
        "perplexity_map_ans_640k=perplexity_map(640000,freq_5,test_data,20000,2,10000,640000)\n",
        "print(\"Perplexity using the MAP estimate for test\",perplexity_map_ans_640k)\n",
        "#pred dist\n",
        "print(\"*Pred dist*\")\n",
        "perplexity_pred_dist_ans_640k_tr=perplexity_pred_dist(640000,freq_5,training_data,20000,2,640000)\n",
        "print(\"Perplexity using the predictive distribution for train\",perplexity_pred_dist_ans_640k_tr)\n",
        "\n",
        "perplexity_pred_dist_ans_640k=perplexity_pred_dist(640000,freq_5,test_data,20000,2,640000)\n",
        "print(\"Perplexity using the predictive distribution for test\",perplexity_pred_dist_ans_640k)"
      ],
      "metadata": {
        "colab": {
          "base_uri": "https://localhost:8080/"
        },
        "id": "qmJTqJfWlt8_",
        "outputId": "8fd14ceb-7d2e-4555-9131-20f4dc78808c"
      },
      "execution_count": 11,
      "outputs": [
        {
          "output_type": "stream",
          "name": "stdout",
          "text": [
            "*MLE*\n",
            "Perplexity using the maximum likelihood estimate for train: 8506.43367662384\n",
            "Perplexity using the maximum likelihood estimate for test: 8657.623041731129\n",
            "*MAP*\n",
            "Perplexity using the MAP estimate for train 8506.96513236839\n",
            "Perplexity using the MAP estimate for test 8654.590090965366\n",
            "*Pred dist*\n",
            "Perplexity using the predictive distribution for train 8508.427803625034\n",
            "Perplexity using the predictive distribution for test 8652.803792634657\n"
          ]
        }
      ]
    },
    {
      "cell_type": "code",
      "source": [
        "x = np.array([5000,10000,40000,160000,640000])\n",
        "y1 = np.array([perplexity_mle_ans_5k,perplexity_mle_ans_10k,perplexity_mle_ans_40k,perplexity_mle_ans_160k,perplexity_mle_ans_640k])\n",
        "y2 = np.array([perplexity_map_ans_5k,perplexity_map_ans_10k,perplexity_map_ans_40k,perplexity_map_ans_160k,perplexity_map_ans_640k])\n",
        "y3 = np.array([perplexity_pred_dist_ans_5k,perplexity_pred_dist_ans_10k,perplexity_pred_dist_ans_40k,perplexity_pred_dist_ans_160k,perplexity_pred_dist_ans_640k])\n",
        "\n",
        "\n",
        "plt.scatter(x, y1, color='green')\n",
        "plt.scatter(x, y2, color='red')\n",
        "plt.scatter(x, y3, color='blue')\n",
        "\n",
        "# Scatter Plot color array\n",
        "plt.title(\"Perplexity with respect to length of data set\")\n",
        "\n",
        "plt.xlabel(\"Number of words in training data\")\n",
        "\n",
        "# Display\n",
        "plt.plot(x,y1,color='green')\n",
        "plt.plot(x,y2,color='red')\n",
        "plt.plot(x,y3,color='blue')\n",
        "\n",
        "plt.legend(['MLE', 'MAP','Predictive Dist'])\n",
        "plt.show()\n",
        "\n",
        "\n"
      ],
      "metadata": {
        "colab": {
          "base_uri": "https://localhost:8080/",
          "height": 295
        },
        "id": "nH9Yv7lazGZz",
        "outputId": "cb993a85-4bd2-49f5-b3c0-3caeb3132120"
      },
      "execution_count": 12,
      "outputs": [
        {
          "output_type": "display_data",
          "data": {
            "text/plain": [
              "<Figure size 432x288 with 1 Axes>"
            ],
            "image/png": "[encoded data removed]"
          },
          "metadata": {
            "needs_background": "light"
          }
        }
      ]
    },
    {
      "cell_type": "code",
      "source": [
        "x = np.array([5000,10000,40000,160000,640000])\n",
        "y1 = np.array([15000,15000,15000,15000,perplexity_mle_ans_640k])\n",
        "y2 = np.array([perplexity_map_ans_5k,perplexity_map_ans_10k,perplexity_map_ans_40k,perplexity_map_ans_160k,perplexity_map_ans_640k])\n",
        "y3 = np.array([perplexity_pred_dist_ans_5k,perplexity_pred_dist_ans_10k,perplexity_pred_dist_ans_40k,perplexity_pred_dist_ans_160k,perplexity_pred_dist_ans_640k])\n",
        "\n",
        "\n",
        "plt.scatter(x, y1, color='green')\n",
        "plt.scatter(x, y2, color='red')\n",
        "plt.scatter(x, y3, color='blue')\n",
        "\n",
        "# Scatter Plot color array\n",
        "plt.title(\"Perplexity with respect to length of data set taking 15000 instead of infinity for mle\")\n",
        "\n",
        "plt.xlabel(\"Number of words in training data\")\n",
        "\n",
        "# Display\n",
        "plt.plot(x,y1,color='green')\n",
        "plt.plot(x,y2,color='red')\n",
        "plt.plot(x,y3,color='blue')\n",
        "\n",
        "plt.legend(['MLE', 'MAP','Predictive Dist'])\n",
        "plt.show()\n",
        "\n",
        "\n"
      ],
      "metadata": {
        "colab": {
          "base_uri": "https://localhost:8080/",
          "height": 295
        },
        "id": "TW-BiAzVi6Uy",
        "outputId": "3609eeae-07b3-4e8f-d27c-ae0ba4a90538"
      },
      "execution_count": 13,
      "outputs": [
        {
          "output_type": "display_data",
          "data": {
            "text/plain": [
              "<Figure size 432x288 with 1 Axes>"
            ],
            "image/png": "[encoded data removed]"
          },
          "metadata": {
            "needs_background": "light"
          }
        }
      ]
    },
    {
      "cell_type": "code",
      "source": [
        "#Task 2\n",
        "#With use of training_data1 ,freq_1 "
      ],
      "metadata": {
        "id": "YivSsFIllt_D"
      },
      "execution_count": null,
      "outputs": []
    },
    {
      "cell_type": "code",
      "source": [
        "alpha=[1.0,2.0,3.0,4.0,5.0,6.0,7.0,8.0,9.0,10.0]\n"
      ],
      "metadata": {
        "id": "LQ1mRpbMluB4"
      },
      "execution_count": 14,
      "outputs": []
    },
    {
      "cell_type": "code",
      "source": [
        "def per_all_alpha(n,freq,data,alpha,ans_list_per,l):\n",
        "                   \n",
        "    for j in alpha: \n",
        "     sum=0\n",
        "     for i in range(len(data)):\n",
        "         p=(freq[data[i]]+j)/(l+ (j*10000))\n",
        "         sum=sum+math.log(p)\n",
        "     sum=math.exp(sum/(-n))\n",
        "     ans_list_per.append(sum)\n",
        "    \n",
        "     \n",
        "\n",
        "    \n",
        "\n",
        "\n",
        "def evidence(freq,data,alpha,evidence_ans):\n",
        "  \n",
        "  for j in alpha:\n",
        "      sum=0\n",
        "      for i in freq:\n",
        "        sum=sum+ (math.log(math.factorial(j+freq[i]-1)))  -math.log(math.factorial(j-1))\n",
        "        ##print(sum) \n",
        "      #print(sum)  \n",
        "      sum=sum+(math.log(math.factorial( ( 10000*j ) -1 )) - math.log ( math.factorial ( 10000*j+5000-1   )))\n",
        "      #print(sum)\n",
        "      evidence_ans.append(sum)\n",
        "      \n",
        "       \n"
      ],
      "metadata": {
        "id": "FElQf9x5luEQ"
      },
      "execution_count": 15,
      "outputs": []
    },
    {
      "cell_type": "code",
      "source": [
        "ans_list_per=[]\n",
        "per_all_alpha(640000,freq_1,test_data,alpha,ans_list_per,5000)\n",
        "print(\"list of perplexity values for each α :\\n\",ans_list_per)\n",
        "\n",
        "evidence_ans=[]\n",
        "evidence(freq_1,test_data,alpha,evidence_ans)\n",
        "print(\"list of evidence values for each α :\\n\", evidence_ans)"
      ],
      "metadata": {
        "colab": {
          "base_uri": "https://localhost:8080/"
        },
        "id": "tns0U08IluG7",
        "outputId": "16581ae9-91b5-42d4-d5b4-faa89307bac4"
      },
      "execution_count": 16,
      "outputs": [
        {
          "output_type": "stream",
          "name": "stdout",
          "text": [
            "list of perplexity values for each α :\n",
            " [10098.36492411617, 9814.024919445475, 9786.08170018863, 9795.817303703838, 9812.080606261894, 9828.21403004244, 9842.709323329726, 9855.37841243399, 9866.383690155306, 9875.959835677339]\n",
            "list of evidence values for each α :\n",
            " [-46113.90994393522, -46016.42218337306, -46004.65053748851, -46005.4713075168, -46008.750364784675, -46012.29823477565, -46015.57636918427, -46018.47568448576, -46021.00839884648, -46023.21824468622]\n"
          ]
        }
      ]
    },
    {
      "cell_type": "code",
      "source": [
        "x = np.array([1.0,2.0,3.0,4.0,5.0,6.0,7.0,8.0,9.0,10.0])\n",
        "y1=ans_list_per\n",
        "y2=evidence_ans\n",
        "\n",
        "#plt.scatter(x, y1, color='green')\n",
        "plt.scatter(x, y1, color='blue')\n",
        "\n",
        "# Scatter Plot color array\n",
        "plt.title(\"Perplexity with respect to alpha\")\n",
        "\n",
        "plt.xlabel(\"alpha\")\n",
        "\n",
        "# Display\n",
        "plt.plot(x,y1,color='blue')\n",
        "\n",
        "plt.show()\n",
        "\n"
      ],
      "metadata": {
        "colab": {
          "base_uri": "https://localhost:8080/",
          "height": 295
        },
        "id": "PtozMgGzDNG8",
        "outputId": "6e7ebb0c-27f9-4c35-9f73-94244643ba9d"
      },
      "execution_count": 17,
      "outputs": [
        {
          "output_type": "display_data",
          "data": {
            "text/plain": [
              "<Figure size 432x288 with 1 Axes>"
            ],
            "image/png": "[encoded data removed]"
          },
          "metadata": {
            "needs_background": "light"
          }
        }
      ]
    },
    {
      "cell_type": "code",
      "source": [
        "x = np.array([1.0,2.0,3.0,4.0,5.0,6.0,7.0,8.0,9.0,10.0])\n",
        "y1=ans_list_per\n",
        "y2=evidence_ans\n",
        "\n",
        "plt.scatter(x, y2, color='red')\n",
        "\n",
        "# Scatter Plot color array\n",
        "plt.title(\"log evidence with respect to alpha\")\n",
        "\n",
        "plt.xlabel(\"alpha\")\n",
        "\n",
        "# Display\n",
        "plt.plot(x,y2,color='red')\n",
        "\n",
        "plt.show()\n",
        "\n"
      ],
      "metadata": {
        "colab": {
          "base_uri": "https://localhost:8080/",
          "height": 295
        },
        "id": "qIdjLuJhBonS",
        "outputId": "cd4267a2-d36a-41ec-bb40-559413f3f3ea"
      },
      "execution_count": 19,
      "outputs": [
        {
          "output_type": "display_data",
          "data": {
            "text/plain": [
              "<Figure size 432x288 with 1 Axes>"
            ],
            "image/png": "[encoded data removed]"
          },
          "metadata": {
            "needs_background": "light"
          }
        }
      ]
    },
    {
      "cell_type": "code",
      "source": [],
      "metadata": {
        "id": "Vz2CrU1TBo1T"
      },
      "execution_count": null,
      "outputs": []
    },
    {
      "cell_type": "code",
      "source": [
        "#Task 3\n",
        "import re\n",
        "import copy\n",
        "import math\n"
      ],
      "metadata": {
        "id": "Yn4pCldHluKX"
      },
      "execution_count": 20,
      "outputs": []
    },
    {
      "cell_type": "code",
      "source": [
        "txt_file = open(\"pg121.txt.clean\", \"r\")\n",
        "file_content = txt_file.read()\n",
        "data_training = re.split(r'\\W+', file_content)\n",
        "data_training.remove(\"\")\n",
        "#data_training.remove('\\n')\n",
        "txt_file.close()\n",
        "#training_data=training_data[0:640000]\n",
        "\n",
        "txt_file = open(\"pg1400.txt.clean\", \"r\")\n",
        "file_content = txt_file.read()\n",
        "data_test1 = re.split(r'\\W+', file_content)\n",
        "data_test1.remove(\"\")\n",
        "#data_test1.remove('\\n')\n",
        "txt_file.close()\n",
        "\n",
        "txt_file = open(\"pg141.txt.clean\", \"r\")\n",
        "file_content = txt_file.read()\n",
        "data_test2 = re.split(r'\\W+', file_content)\n",
        "data_test2.remove(\"\")\n",
        "#data_test2.remove('\\n')\n",
        "txt_file.close()\n",
        "\n"
      ],
      "metadata": {
        "id": "u8zXXfLPXJak"
      },
      "execution_count": 21,
      "outputs": []
    },
    {
      "cell_type": "code",
      "source": [
        "def bag(my_list,freq):\n",
        "   \n",
        "   \n",
        "    for item in my_list:\n",
        "            freq[item] = 0\n",
        "           \n",
        "    \n",
        "vocab={}\n",
        "bag(data_training+data_test1 +data_test2,vocab)\n",
        "#del vocab['']"
      ],
      "metadata": {
        "id": "rNvmSQCA-A_f"
      },
      "execution_count": 22,
      "outputs": []
    },
    {
      "cell_type": "code",
      "source": [
        "def CountFrequency_t3(my_list):\n",
        "    freq=copy.copy(vocab)  \n",
        "    for item in my_list:\n",
        "        if (item in freq):\n",
        "            freq[item] +=1\n",
        "\n",
        "\n",
        "    return freq        \n"
      ],
      "metadata": {
        "id": "kMgOrDFFlu4H"
      },
      "execution_count": 24,
      "outputs": []
    },
    {
      "cell_type": "code",
      "source": [
        "def perplexity_pred_dist_t3(freq,data,alpha0,alphak):\n",
        "     sum=0\n",
        "     for i in range(len(data)):\n",
        "         p=(freq[data[i]]+alphak)/(len(data_training)+alpha0)\n",
        "         sum=sum+math.log(p)\n",
        "     sum=sum/(-(len(data)))\n",
        "     return math.exp(sum) \n",
        "\n"
      ],
      "metadata": {
        "id": "43SfB5vJctKM"
      },
      "execution_count": 25,
      "outputs": []
    },
    {
      "cell_type": "code",
      "source": [
        "\n",
        "freq=CountFrequency_t3(data_training)\n"
      ],
      "metadata": {
        "id": "7TjD4j9ll2N4"
      },
      "execution_count": 26,
      "outputs": []
    },
    {
      "cell_type": "code",
      "source": [
        "task_3_1=perplexity_pred_dist_t3(freq,data_test1,(18251*2),2)\n",
        "print(\"Perplexity using the predictive distribution\",task_3_1)"
      ],
      "metadata": {
        "colab": {
          "base_uri": "https://localhost:8080/"
        },
        "id": "eXPqKZUPlE6Y",
        "outputId": "23ad3279-09cc-41d5-ba3b-404ffaedc151"
      },
      "execution_count": 27,
      "outputs": [
        {
          "output_type": "stream",
          "name": "stdout",
          "text": [
            "Perplexity using the predictive distribution 6397.359553488723\n"
          ]
        }
      ]
    },
    {
      "cell_type": "code",
      "source": [
        "task_3_2=perplexity_pred_dist_t3(freq,data_test2,(18251*2),2)\n",
        "print(\"Perplexity using the predictive distribution\",task_3_2)"
      ],
      "metadata": {
        "colab": {
          "base_uri": "https://localhost:8080/"
        },
        "id": "QSawvHaFmf4p",
        "outputId": "7c03f5c6-2818-49a2-ecad-1751bf1e3f69"
      },
      "execution_count": 28,
      "outputs": [
        {
          "output_type": "stream",
          "name": "stdout",
          "text": [
            "Perplexity using the predictive distribution 4784.562471838497\n"
          ]
        }
      ]
    },
    {
      "cell_type": "code",
      "source": [],
      "metadata": {
        "id": "eAiNOQqI1Urn"
      },
      "execution_count": null,
      "outputs": []
    }
  ]
}